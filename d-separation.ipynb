{
 "cells": [
  {
   "cell_type": "code",
   "execution_count": 1,
   "id": "6a9bb56f-a8b3-4e9a-85f6-e1e0962f63e5",
   "metadata": {},
   "outputs": [],
   "source": [
    "import networkx as nx\n",
    "from itertools import combinations\n",
    "import numpy as np\n",
    "from collections import defaultdict"
   ]
  },
  {
   "cell_type": "markdown",
   "id": "cf1b2f41-8abf-46ff-b832-ea5fc70af79b",
   "metadata": {},
   "source": [
    "## Bayesian Network"
   ]
  },
  {
   "cell_type": "code",
   "execution_count": 2,
   "id": "6a02d2b2-ee6f-450b-adde-909596fe1292",
   "metadata": {},
   "outputs": [],
   "source": [
    "class BayesianNetwork: \n",
    "    def __init__(self):\n",
    "        self.graph = nx.DiGraph() \n",
    "        self.cpts = defaultdict(lambda: defaultdict(dict))\n",
    "\n",
    "    def add_edge(self, parent, child):\n",
    "        self.graph.add_edge(parent, child)"
   ]
  },
  {
   "cell_type": "markdown",
   "id": "fdd72294-1b03-454c-ae6a-7ccf9e33861b",
   "metadata": {},
   "source": [
    "## D-Separation"
   ]
  },
  {
   "cell_type": "code",
   "execution_count": 3,
   "id": "02bc50c1-20f2-43a0-b789-06212b47a8cb",
   "metadata": {},
   "outputs": [
    {
     "name": "stderr",
     "output_type": "stream",
     "text": [
      "<>:60: SyntaxWarning: invalid escape sequence '\\p'\n",
      "<>:60: SyntaxWarning: invalid escape sequence '\\ '\n",
      "<>:60: SyntaxWarning: invalid escape sequence '\\p'\n",
      "<>:60: SyntaxWarning: invalid escape sequence '\\ '\n",
      "/tmp/ipykernel_68618/4233927165.py:60: SyntaxWarning: invalid escape sequence '\\p'\n",
      "  print(f\"{i + 1}. ${X} \\perp\\!\\!\\!\\perp {Y} \\ | \\ \\\\{{ {', '.join(E)} \\\\}}$\")\n",
      "/tmp/ipykernel_68618/4233927165.py:60: SyntaxWarning: invalid escape sequence '\\ '\n",
      "  print(f\"{i + 1}. ${X} \\perp\\!\\!\\!\\perp {Y} \\ | \\ \\\\{{ {', '.join(E)} \\\\}}$\")\n"
     ]
    }
   ],
   "source": [
    "def edges_converge(self, parent1, node, parent2):\n",
    "    # Converge if both parents point towards node\n",
    "    return self.graph.has_edge(parent1, node) and self.graph.has_edge(parent2, node)\n",
    "\n",
    "def has_descendant_in_set(self, node, E):\n",
    "    # In case 3 convergence: if a descendant of a node is in evidence, its not blocked\n",
    "    # Return true if descendant in evidence\n",
    "    descendants = nx.descendants(self.graph, node)\n",
    "    return any(descendant in E for descendant in descendants)\n",
    "\n",
    "def is_path_blocked(self, path, E):\n",
    "    for i in range(1, len(path) - 1):\n",
    "        node = path[i]\n",
    "\n",
    "        # Case 3 blocked: Edges converge on non-evidence node \n",
    "        # and no descendants of node in evidence\n",
    "        if self.edges_converge(path[i - 1], node, path[i + 1]):\n",
    "            if path == ['R', 'P', 'S']:\n",
    "                if node not in E:\n",
    "                    if not self.has_descendant_in_set(node, E):\n",
    "                        return True\n",
    "            if node not in E and not self.has_descendant_in_set(node, E):\n",
    "                return True\n",
    "        else:\n",
    "            # Case 1, 2: alignment and divergence\n",
    "            if node in E:\n",
    "                return True\n",
    "    return False\n",
    "\n",
    "def d_separation(self, X, Y, E):\n",
    "    # Consider all undirected paths from lecture\n",
    "    undirected_graph = self.graph.to_undirected() \n",
    "    all_paths = list(nx.all_simple_paths(undirected_graph, source=X, target=Y))\n",
    "    for path in all_paths: \n",
    "        # D-separation only when ALL paths are blocked\n",
    "        # return False if not blocked\n",
    "        if not self.is_path_blocked(path, E): \n",
    "            return False \n",
    "    return True\n",
    "    \n",
    "def find_conditional_independencies(self):\n",
    "    independencies = []\n",
    "    nodes = list(self.graph.nodes)\n",
    "\n",
    "    for i, X in enumerate(nodes):\n",
    "        for j in range(i + 1, len(nodes)):\n",
    "            # X != Y\n",
    "            Y = nodes[j] \n",
    "            remaining_nodes = [n for n in nodes if n not in {X, Y}]\n",
    "            for r in range(len(remaining_nodes) + 1):\n",
    "                # Check all combinations of E given X,Y not in E\n",
    "                for E in combinations(remaining_nodes, r): \n",
    "                    if self.d_separation(X, Y, E):\n",
    "                        independencies.append((X, Y, E))\n",
    "    return independencies\n",
    "\n",
    "def print_conditional_independencies(self): \n",
    "    independencies = self.find_conditional_independencies()\n",
    "    for i, (X, Y, E) in enumerate(independencies):\n",
    "        print(f\"{i + 1}. ${X} \\perp\\!\\!\\!\\perp {Y} \\ | \\ \\\\{{ {', '.join(E)} \\\\}}$\")\n",
    "\n",
    "setattr(BayesianNetwork, 'edges_converge', edges_converge)\n",
    "setattr(BayesianNetwork, 'has_descendant_in_set', has_descendant_in_set)\n",
    "setattr(BayesianNetwork, 'is_path_blocked', is_path_blocked)\n",
    "setattr(BayesianNetwork, 'd_separation', d_separation)\n",
    "setattr(BayesianNetwork, 'find_conditional_independencies', find_conditional_independencies)\n",
    "setattr(BayesianNetwork, 'print_conditional_independencies', print_conditional_independencies)"
   ]
  },
  {
   "cell_type": "code",
   "execution_count": 52,
   "id": "cb4a4ea6-8404-4f86-b076-2fd1f23f1ac3",
   "metadata": {},
   "outputs": [],
   "source": [
    "def find_given_X_Y(independencies, X, Y, E):\n",
    "    matches = []\n",
    "    for tup in independencies: \n",
    "        \n",
    "        if tup[0] == X and tup[1]==Y and tup[2]==E:\n",
    "            matches.append(tup)\n",
    "        elif tup[1] == X and tup[0]==Y and tup[2]==E: \n",
    "            matches.append(tup)\n",
    "    return matches"
   ]
  },
  {
   "cell_type": "code",
   "execution_count": 53,
   "id": "05b81f2d-6129-4bf4-83fd-38c2039effc1",
   "metadata": {},
   "outputs": [],
   "source": [
    "bn = BayesianNetwork()\n",
    "bn.add_edge('A', 'B')\n",
    "bn.add_edge('A', 'G')\n",
    "bn.add_edge('B', 'D')\n",
    "bn.add_edge('D', 'F')\n",
    "bn.add_edge('D', 'G')\n",
    "bn.add_edge('C', 'E')\n",
    "bn.add_edge('E', 'G')\n",
    "bn.add_edge('E', 'H')\n",
    "independencies = bn.find_conditional_independencies()"
   ]
  },
  {
   "cell_type": "code",
   "execution_count": 57,
   "id": "e8a055e0-eebd-45a7-8475-1b3cff19c7fe",
   "metadata": {},
   "outputs": [
    {
     "name": "stdout",
     "output_type": "stream",
     "text": [
      "9. [('A', 'H', ('C',))]\n",
      "9. [('B', 'H', ('C',))]\n",
      "9. [('D', 'H', ('C',))]\n",
      "9. [('F', 'H', ('C',))]\n"
     ]
    }
   ],
   "source": [
    "print(\"9.\", find_given_X_Y(independencies, X='H', Y='A', E=('C',)))         # P(H|C)\n",
    "print(\"9.\", find_given_X_Y(independencies, X='H', Y='B', E=('C',)))         # P(H|C)\n",
    "print(\"9.\", find_given_X_Y(independencies, X='H', Y='D', E=('C',)))         # P(H|C)\n",
    "print(\"9.\", find_given_X_Y(independencies, X='H', Y='F', E=('C',)))         # P(H|C)\n"
   ]
  },
  {
   "cell_type": "code",
   "execution_count": 55,
   "id": "1cc6b8ea-78e7-4220-b927-41043e336eab",
   "metadata": {},
   "outputs": [
    {
     "name": "stdout",
     "output_type": "stream",
     "text": [
      "1. []\n",
      "2. [('G', 'F', ('D',))]\n",
      "3. [('A', 'C', ())]\n",
      "4. []\n",
      "5. [('F', 'H', ())]\n",
      "6. [('D', 'E', ('F', 'H'))]\n",
      "7. []\n",
      "8. []\n",
      "9. []\n",
      "10. [('A', 'H', ('C',))]\n"
     ]
    }
   ],
   "source": [
    "# Assume `independencies` is your list of independence relations.\n",
    "\n",
    "# Check each conditional independence assumption\n",
    "# Assume `independencies` is your list of independence relations.\n",
    "\n",
    "# Check each conditional independence assumption with numbering\n",
    "print(\"1.\", find_given_X_Y(independencies, X='B', Y='C', E=('G',)))  # P(B|G, C) = P(B|G)\n",
    "print(\"2.\", find_given_X_Y(independencies, X='F', Y='G', E=('D',)))  # P(F, G|D) = P(F|D) P(G|D)\n",
    "print(\"3.\", find_given_X_Y(independencies, X='A', Y='C', E=()))       # P(A, C) = P(A) P(C)\n",
    "print(\"4.\", find_given_X_Y(independencies, X='D', Y='B', E=('F', 'G')))  # P(D|B, F, G) = P(D|B, F, G, A)\n",
    "print(\"5.\", find_given_X_Y(independencies, X='F', Y='H', E=()))        # P(F, H) = P(F) P(H)\n",
    "print(\"6.\", find_given_X_Y(independencies, X='D', Y='E', E=('F', 'H')))  # P(D, E|F, H) = P(D|F) P(E|H)\n",
    "print(\"7.\", find_given_X_Y(independencies, X='F', Y='C', E=('G',)))    # P(F, C|G) = P(F|G) P(C|G)\n",
    "print(\"8.\", find_given_X_Y(independencies, X='D', Y='E', E=('G',)))    # P(D, E, G) = P(D) P(E) P(G|D, E)\n",
    "print(\"9.\", find_given_X_Y(independencies, X='H', Y='C', E=()))         # P(H|C)\n",
    "print(\"10.\", find_given_X_Y(independencies, X='H', Y='A', E=('C',)))    # P(H|A, C)\n"
   ]
  },
  {
   "cell_type": "code",
   "execution_count": 13,
   "id": "2ddd607c-71fb-44d7-b47d-d8fedd4e9e1c",
   "metadata": {},
   "outputs": [
    {
     "name": "stdout",
     "output_type": "stream",
     "text": [
      "588\n"
     ]
    }
   ],
   "source": [
    "bn = BayesianNetwork()\n",
    "bn.add_edge('A', 'D')\n",
    "bn.add_edge('A', 'E')\n",
    "\n",
    "bn.add_edge('E', 'G')\n",
    "\n",
    "bn.add_edge('B', 'E')\n",
    "bn.add_edge('B', 'F')\n",
    "\n",
    "bn.add_edge('F', 'G')\n",
    "bn.add_edge('F', 'H')\n",
    "\n",
    "bn.add_edge('C', 'F')\n",
    "bn.add_edge('C', 'H')\n",
    "independencies = bn.find_conditional_independencies()\n",
    "print(len(independencies))"
   ]
  },
  {
   "cell_type": "code",
   "execution_count": 14,
   "id": "4f573a3d-423a-49d4-9f3b-390348a5842d",
   "metadata": {},
   "outputs": [],
   "source": []
  },
  {
   "cell_type": "code",
   "execution_count": 15,
   "id": "44837060-4828-41ff-a425-b921d20eb518",
   "metadata": {},
   "outputs": [
    {
     "name": "stdout",
     "output_type": "stream",
     "text": [
      "[('B', 'C', ()), ('B', 'C', ('A',)), ('B', 'C', ('D',)), ('B', 'C', ('E',)), ('B', 'C', ('A', 'D')), ('B', 'C', ('A', 'E')), ('B', 'C', ('D', 'E')), ('B', 'C', ('A', 'D', 'E'))]\n"
     ]
    }
   ],
   "source": [
    "print(find_given_X_Y(independencies, 'B', 'C'))"
   ]
  },
  {
   "cell_type": "code",
   "execution_count": 4,
   "id": "2e89ce1c-a74b-49a8-82fe-35c49671bd1d",
   "metadata": {},
   "outputs": [
    {
     "name": "stdout",
     "output_type": "stream",
     "text": [
      "1. $E \\perp\\!\\!\\!\\perp B \\ | \\ \\{  \\}$\n",
      "2. $E \\perp\\!\\!\\!\\perp J \\ | \\ \\{ A \\}$\n",
      "3. $E \\perp\\!\\!\\!\\perp J \\ | \\ \\{ A, B \\}$\n",
      "4. $E \\perp\\!\\!\\!\\perp J \\ | \\ \\{ A, M \\}$\n",
      "5. $E \\perp\\!\\!\\!\\perp J \\ | \\ \\{ A, B, M \\}$\n",
      "6. $E \\perp\\!\\!\\!\\perp M \\ | \\ \\{ A \\}$\n",
      "7. $E \\perp\\!\\!\\!\\perp M \\ | \\ \\{ A, B \\}$\n",
      "8. $E \\perp\\!\\!\\!\\perp M \\ | \\ \\{ A, J \\}$\n",
      "9. $E \\perp\\!\\!\\!\\perp M \\ | \\ \\{ A, B, J \\}$\n",
      "10. $B \\perp\\!\\!\\!\\perp J \\ | \\ \\{ A \\}$\n",
      "11. $B \\perp\\!\\!\\!\\perp J \\ | \\ \\{ E, A \\}$\n",
      "12. $B \\perp\\!\\!\\!\\perp J \\ | \\ \\{ A, M \\}$\n",
      "13. $B \\perp\\!\\!\\!\\perp J \\ | \\ \\{ E, A, M \\}$\n",
      "14. $B \\perp\\!\\!\\!\\perp M \\ | \\ \\{ A \\}$\n",
      "15. $B \\perp\\!\\!\\!\\perp M \\ | \\ \\{ E, A \\}$\n",
      "16. $B \\perp\\!\\!\\!\\perp M \\ | \\ \\{ A, J \\}$\n",
      "17. $B \\perp\\!\\!\\!\\perp M \\ | \\ \\{ E, A, J \\}$\n",
      "18. $J \\perp\\!\\!\\!\\perp M \\ | \\ \\{ A \\}$\n",
      "19. $J \\perp\\!\\!\\!\\perp M \\ | \\ \\{ E, A \\}$\n",
      "20. $J \\perp\\!\\!\\!\\perp M \\ | \\ \\{ A, B \\}$\n",
      "21. $J \\perp\\!\\!\\!\\perp M \\ | \\ \\{ E, A, B \\}$\n"
     ]
    }
   ],
   "source": [
    "bn = BayesianNetwork()\n",
    "bn.add_edge('E', 'A')\n",
    "bn.add_edge('B', 'A')\n",
    "bn.add_edge('A', 'J')\n",
    "bn.add_edge('A', 'M')\n",
    "bn.print_conditional_independencies()"
   ]
  },
  {
   "cell_type": "code",
   "execution_count": null,
   "id": "f45f25a0-c132-4235-bb9b-1a564e8e0f04",
   "metadata": {},
   "outputs": [],
   "source": []
  }
 ],
 "metadata": {
  "kernelspec": {
   "display_name": "Python 3 (ipykernel)",
   "language": "python",
   "name": "python3"
  },
  "language_info": {
   "codemirror_mode": {
    "name": "ipython",
    "version": 3
   },
   "file_extension": ".py",
   "mimetype": "text/x-python",
   "name": "python",
   "nbconvert_exporter": "python",
   "pygments_lexer": "ipython3",
   "version": "3.12.6"
  }
 },
 "nbformat": 4,
 "nbformat_minor": 5
}
