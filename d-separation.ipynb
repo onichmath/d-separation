{
 "cells": [
  {
   "cell_type": "code",
   "execution_count": 118,
   "id": "6a9bb56f-a8b3-4e9a-85f6-e1e0962f63e5",
   "metadata": {},
   "outputs": [],
   "source": [
    "import networkx as nx\n",
    "from itertools import combinations\n",
    "import numpy as np\n",
    "from collections import defaultdict"
   ]
  },
  {
   "cell_type": "markdown",
   "id": "cf1b2f41-8abf-46ff-b832-ea5fc70af79b",
   "metadata": {},
   "source": [
    "## Bayesian Network"
   ]
  },
  {
   "cell_type": "code",
   "execution_count": 147,
   "id": "6a02d2b2-ee6f-450b-adde-909596fe1292",
   "metadata": {},
   "outputs": [],
   "source": [
    "class BayesianNetwork: \n",
    "    def __init__(self):\n",
    "        self.graph = nx.DiGraph() \n",
    "        self.cpts = defaultdict(lambda: defaultdict(dict))\n",
    "\n",
    "    def add_edge(self, parent, child):\n",
    "        self.graph.add_edge(parent, child)"
   ]
  },
  {
   "cell_type": "markdown",
   "id": "fdd72294-1b03-454c-ae6a-7ccf9e33861b",
   "metadata": {},
   "source": [
    "## D-Separation"
   ]
  },
  {
   "cell_type": "code",
   "execution_count": 148,
   "id": "02bc50c1-20f2-43a0-b789-06212b47a8cb",
   "metadata": {},
   "outputs": [
    {
     "name": "stderr",
     "output_type": "stream",
     "text": [
      "<>:60: SyntaxWarning: invalid escape sequence '\\p'\n",
      "<>:60: SyntaxWarning: invalid escape sequence '\\ '\n",
      "<>:60: SyntaxWarning: invalid escape sequence '\\p'\n",
      "<>:60: SyntaxWarning: invalid escape sequence '\\ '\n",
      "/tmp/ipykernel_37873/4233927165.py:60: SyntaxWarning: invalid escape sequence '\\p'\n",
      "  print(f\"{i + 1}. ${X} \\perp\\!\\!\\!\\perp {Y} \\ | \\ \\\\{{ {', '.join(E)} \\\\}}$\")\n",
      "/tmp/ipykernel_37873/4233927165.py:60: SyntaxWarning: invalid escape sequence '\\ '\n",
      "  print(f\"{i + 1}. ${X} \\perp\\!\\!\\!\\perp {Y} \\ | \\ \\\\{{ {', '.join(E)} \\\\}}$\")\n"
     ]
    }
   ],
   "source": [
    "def edges_converge(self, parent1, node, parent2):\n",
    "    # Converge if both parents point towards node\n",
    "    return self.graph.has_edge(parent1, node) and self.graph.has_edge(parent2, node)\n",
    "\n",
    "def has_descendant_in_set(self, node, E):\n",
    "    # In case 3 convergence: if a descendant of a node is in evidence, its not blocked\n",
    "    # Return true if descendant in evidence\n",
    "    descendants = nx.descendants(self.graph, node)\n",
    "    return any(descendant in E for descendant in descendants)\n",
    "\n",
    "def is_path_blocked(self, path, E):\n",
    "    for i in range(1, len(path) - 1):\n",
    "        node = path[i]\n",
    "\n",
    "        # Case 3 blocked: Edges converge on non-evidence node \n",
    "        # and no descendants of node in evidence\n",
    "        if self.edges_converge(path[i - 1], node, path[i + 1]):\n",
    "            if path == ['R', 'P', 'S']:\n",
    "                if node not in E:\n",
    "                    if not self.has_descendant_in_set(node, E):\n",
    "                        return True\n",
    "            if node not in E and not self.has_descendant_in_set(node, E):\n",
    "                return True\n",
    "        else:\n",
    "            # Case 1, 2: alignment and divergence\n",
    "            if node in E:\n",
    "                return True\n",
    "    return False\n",
    "\n",
    "def d_separation(self, X, Y, E):\n",
    "    # Consider all undirected paths from lecture\n",
    "    undirected_graph = self.graph.to_undirected() \n",
    "    all_paths = list(nx.all_simple_paths(undirected_graph, source=X, target=Y))\n",
    "    for path in all_paths: \n",
    "        # D-separation only when ALL paths are blocked\n",
    "        # return False if not blocked\n",
    "        if not self.is_path_blocked(path, E): \n",
    "            return False \n",
    "    return True\n",
    "    \n",
    "def find_conditional_independencies(self):\n",
    "    independencies = []\n",
    "    nodes = list(self.graph.nodes)\n",
    "\n",
    "    for i, X in enumerate(nodes):\n",
    "        for j in range(i + 1, len(nodes)):\n",
    "            # X != Y\n",
    "            Y = nodes[j] \n",
    "            remaining_nodes = [n for n in nodes if n not in {X, Y}]\n",
    "            for r in range(len(remaining_nodes) + 1):\n",
    "                # Check all combinations of E given X,Y not in E\n",
    "                for E in combinations(remaining_nodes, r): \n",
    "                    if self.d_separation(X, Y, E):\n",
    "                        independencies.append((X, Y, E))\n",
    "    return independencies\n",
    "\n",
    "def print_conditional_independencies(self): \n",
    "    independencies = self.find_conditional_independencies()\n",
    "    for i, (X, Y, E) in enumerate(independencies):\n",
    "        print(f\"{i + 1}. ${X} \\perp\\!\\!\\!\\perp {Y} \\ | \\ \\\\{{ {', '.join(E)} \\\\}}$\")\n",
    "\n",
    "setattr(BayesianNetwork, 'edges_converge', edges_converge)\n",
    "setattr(BayesianNetwork, 'has_descendant_in_set', has_descendant_in_set)\n",
    "setattr(BayesianNetwork, 'is_path_blocked', is_path_blocked)\n",
    "setattr(BayesianNetwork, 'd_separation', d_separation)\n",
    "setattr(BayesianNetwork, 'find_conditional_independencies', find_conditional_independencies)\n",
    "setattr(BayesianNetwork, 'print_conditional_independencies', print_conditional_independencies)"
   ]
  },
  {
   "cell_type": "code",
   "execution_count": 149,
   "id": "05b81f2d-6129-4bf4-83fd-38c2039effc1",
   "metadata": {},
   "outputs": [
    {
     "name": "stdout",
     "output_type": "stream",
     "text": [
      "1. $M \\perp\\!\\!\\!\\perp P \\ | \\ \\{ R, S \\}$\n",
      "2. $M \\perp\\!\\!\\!\\perp P \\ | \\ \\{ R, S, F \\}$\n",
      "3. $M \\perp\\!\\!\\!\\perp F \\ | \\ \\{ P \\}$\n",
      "4. $M \\perp\\!\\!\\!\\perp F \\ | \\ \\{ R, S \\}$\n",
      "5. $M \\perp\\!\\!\\!\\perp F \\ | \\ \\{ R, P \\}$\n",
      "6. $M \\perp\\!\\!\\!\\perp F \\ | \\ \\{ S, P \\}$\n",
      "7. $M \\perp\\!\\!\\!\\perp F \\ | \\ \\{ R, S, P \\}$\n",
      "8. $R \\perp\\!\\!\\!\\perp S \\ | \\ \\{ M \\}$\n",
      "9. $R \\perp\\!\\!\\!\\perp F \\ | \\ \\{ P \\}$\n",
      "10. $R \\perp\\!\\!\\!\\perp F \\ | \\ \\{ M, P \\}$\n",
      "11. $R \\perp\\!\\!\\!\\perp F \\ | \\ \\{ S, P \\}$\n",
      "12. $R \\perp\\!\\!\\!\\perp F \\ | \\ \\{ M, S, P \\}$\n",
      "13. $S \\perp\\!\\!\\!\\perp F \\ | \\ \\{ P \\}$\n",
      "14. $S \\perp\\!\\!\\!\\perp F \\ | \\ \\{ M, P \\}$\n",
      "15. $S \\perp\\!\\!\\!\\perp F \\ | \\ \\{ R, P \\}$\n",
      "16. $S \\perp\\!\\!\\!\\perp F \\ | \\ \\{ M, R, P \\}$\n"
     ]
    }
   ],
   "source": [
    "bn = BayesianNetwork()\n",
    "bn.add_edge('M', 'R')\n",
    "bn.add_edge('M', 'S')\n",
    "bn.add_edge('S', 'P')\n",
    "bn.add_edge('R', 'P')\n",
    "bn.add_edge('P', 'F')\n",
    "bn.print_conditional_independencies()"
   ]
  }
 ],
 "metadata": {
  "kernelspec": {
   "display_name": "Python 3 (ipykernel)",
   "language": "python",
   "name": "python3"
  },
  "language_info": {
   "codemirror_mode": {
    "name": "ipython",
    "version": 3
   },
   "file_extension": ".py",
   "mimetype": "text/x-python",
   "name": "python",
   "nbconvert_exporter": "python",
   "pygments_lexer": "ipython3",
   "version": "3.12.6"
  }
 },
 "nbformat": 4,
 "nbformat_minor": 5
}
